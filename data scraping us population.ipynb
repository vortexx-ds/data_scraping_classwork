{
 "cells": [
  {
   "cell_type": "code",
   "execution_count": 1,
   "id": "48fb0c31-f8b3-458d-b280-1504e0f47b43",
   "metadata": {},
   "outputs": [
    {
     "name": "stdout",
     "output_type": "stream",
     "text": [
      "Requirement already satisfied: requests in c:\\users\\npstanwar\\anaconda3\\lib\\site-packages (2.32.3)\n",
      "Requirement already satisfied: beautifulsoup4 in c:\\users\\npstanwar\\anaconda3\\lib\\site-packages (4.12.3)\n",
      "Requirement already satisfied: pandas in c:\\users\\npstanwar\\anaconda3\\lib\\site-packages (2.2.2)\n",
      "Requirement already satisfied: charset-normalizer<4,>=2 in c:\\users\\npstanwar\\anaconda3\\lib\\site-packages (from requests) (3.3.2)\n",
      "Requirement already satisfied: idna<4,>=2.5 in c:\\users\\npstanwar\\anaconda3\\lib\\site-packages (from requests) (3.7)\n",
      "Requirement already satisfied: urllib3<3,>=1.21.1 in c:\\users\\npstanwar\\anaconda3\\lib\\site-packages (from requests) (2.2.3)\n",
      "Requirement already satisfied: certifi>=2017.4.17 in c:\\users\\npstanwar\\anaconda3\\lib\\site-packages (from requests) (2024.12.14)\n",
      "Requirement already satisfied: soupsieve>1.2 in c:\\users\\npstanwar\\anaconda3\\lib\\site-packages (from beautifulsoup4) (2.5)\n",
      "Requirement already satisfied: numpy>=1.26.0 in c:\\users\\npstanwar\\anaconda3\\lib\\site-packages (from pandas) (1.26.4)\n",
      "Requirement already satisfied: python-dateutil>=2.8.2 in c:\\users\\npstanwar\\anaconda3\\lib\\site-packages (from pandas) (2.9.0.post0)\n",
      "Requirement already satisfied: pytz>=2020.1 in c:\\users\\npstanwar\\anaconda3\\lib\\site-packages (from pandas) (2024.1)\n",
      "Requirement already satisfied: tzdata>=2022.7 in c:\\users\\npstanwar\\anaconda3\\lib\\site-packages (from pandas) (2023.3)\n",
      "Requirement already satisfied: six>=1.5 in c:\\users\\npstanwar\\anaconda3\\lib\\site-packages (from python-dateutil>=2.8.2->pandas) (1.16.0)\n",
      "Note: you may need to restart the kernel to use updated packages.\n"
     ]
    }
   ],
   "source": [
    "pip install requests beautifulsoup4 pandas"
   ]
  },
  {
   "cell_type": "code",
   "execution_count": 3,
   "id": "d34612ab-f33b-442a-847a-ba8de14b6e3a",
   "metadata": {},
   "outputs": [
    {
     "name": "stdout",
     "output_type": "stream",
     "text": [
      "Page fetched successfully!\n"
     ]
    }
   ],
   "source": [
    "import requests\n",
    "\n",
    "url = \"https://en.wikipedia.org/wiki/List_of_states_and_territories_of_the_United_States\"\n",
    "\n",
    "# Adding a user agent to prevent request rejection\n",
    "headers = {\n",
    "    'User-Agent': 'Mozilla/5.0 (Windows NT 10.0; Win64; x64) AppleWebKit/537.36 (KHTML, like Gecko) Chrome/91.0.4472.124 Safari/537.36'\n",
    "}\n",
    "response = requests.get(url, headers=headers)\n",
    "\n",
    "# Check if the request was successful\n",
    "if response.status_code == 200:\n",
    "    print(\"Page fetched successfully!\")\n",
    "else:\n",
    "    print(f\"Failed to fetch page. Status code: {response.status_code}\")"
   ]
  },
  {
   "cell_type": "code",
   "execution_count": 5,
   "id": "cc379295-0dd8-4ff5-a536-0c444c1eecf5",
   "metadata": {},
   "outputs": [],
   "source": [
    "from bs4 import BeautifulSoup\n",
    "\n",
    "# Parse the HTML content\n",
    "soup = BeautifulSoup(response.content, 'html.parser')\n",
    "\n",
    "# Locate the table with the data\n",
    "table = soup.find('table', {'class': 'wikitable'})"
   ]
  },
  {
   "cell_type": "code",
   "execution_count": 7,
   "id": "1ed21b29-8719-4cf9-9a20-ce6166df4e86",
   "metadata": {},
   "outputs": [
    {
     "name": "stdout",
     "output_type": "stream",
     "text": [
      "[]\n",
      "['AL', 'Montgomery', 'Huntsville', 'Dec 14, 1819', '5,024,279', '52,420', '135,767', '7']\n",
      "['AK', 'Juneau', 'Anchorage', 'Jan 3, 1959', '733,391', '665,384', '1,723,337', '1']\n",
      "['AZ', 'Phoenix', 'Feb 14, 1912', '7,151,502', '113,990', '295,234', '9']\n",
      "['AR', 'Little Rock', 'Jun 15, 1836', '3,011,524', '53,179', '137,732', '4']\n",
      "['CA', 'Sacramento', 'Los Angeles', 'Sep 9, 1850', '39,538,223', '163,695', '423,967', '52']\n",
      "['CO', 'Denver', 'Aug 1, 1876', '5,773,714', '104,094', '269,601', '8']\n",
      "['CT', 'Hartford', 'Bridgeport', 'Jan 9, 1788', '3,605,944', '5,543', '14,357', '5']\n",
      "['DE', 'Dover', 'Wilmington', 'Dec 7, 1787', '989,948', '2,489', '6,446', '1']\n",
      "['FL', 'Tallahassee', 'Jacksonville', 'Mar 3, 1845', '21,538,187', '65,758', '170,312', '28']\n",
      "['GA', 'Atlanta', 'Jan 2, 1788', '10,711,908', '59,425', '153,910', '14']\n",
      "['HI', 'Honolulu', 'Aug 21, 1959', '1,455,271', '10,932', '28,313', '2']\n",
      "['ID', 'Boise', 'Jul 3, 1890', '1,839,106', '83,569', '216,443', '2']\n",
      "['IL', 'Springfield', 'Chicago', 'Dec 3, 1818', '12,812,508', '57,914', '149,995', '17']\n",
      "['IN', 'Indianapolis', 'Dec 11, 1816', '6,785,528', '36,420', '94,326', '9']\n",
      "['IA', 'Des Moines', 'Dec 28, 1846', '3,190,369', '56,273', '145,746', '4']\n",
      "['KS', 'Topeka', 'Wichita', 'Jan 29, 1861', '2,937,880', '82,278', '213,100', '4']\n",
      "['KY', 'Frankfort', 'Louisville', 'Jun 1, 1792', '4,505,836', '40,408', '104,656', '6']\n",
      "['LA', 'Baton Rouge', 'New Orleans', 'Apr 30, 1812', '4,657,757', '52,378', '135,659', '6']\n",
      "['ME', 'Augusta', 'Portland', 'Mar 15, 1820', '1,362,359', '35,380', '91,633', '2']\n",
      "['MD', 'Annapolis', 'Baltimore', 'Apr 28, 1788', '6,177,224', '12,406', '32,131', '8']\n",
      "['MA', 'Boston', 'Feb 6, 1788', '7,029,917', '10,554', '27,336', '9']\n",
      "['MI', 'Lansing', 'Detroit', 'Jan 26, 1837', '10,077,331', '96,714', '250,487', '13']\n",
      "['MN', 'Saint Paul', 'Minneapolis', 'May 11, 1858', '5,706,494', '86,936', '225,163', '8']\n",
      "['MS', 'Jackson', 'Dec 10, 1817', '2,961,279', '48,432', '125,438', '4']\n",
      "['MO', 'Jefferson City', 'Kansas City', 'Aug 10, 1821', '6,154,913', '69,707', '180,540', '8']\n",
      "['MT', 'Helena', 'Billings', 'Nov 8, 1889', '1,084,225', '147,040', '380,831', '2']\n",
      "['NE', 'Lincoln', 'Omaha', 'Mar 1, 1867', '1,961,504', '77,348', '200,330', '3']\n",
      "['NV', 'Carson City', 'Las Vegas', 'Oct 31, 1864', '3,104,614', '110,572', '286,380', '4']\n",
      "['NH', 'Concord', 'Manchester', 'Jun 21, 1788', '1,377,529', '9,349', '24,214', '2']\n",
      "['NJ', 'Trenton', 'Newark', 'Dec 18, 1787', '9,288,994', '8,723', '22,591', '12']\n",
      "['NM', 'Santa Fe', 'Albuquerque', 'Jan 6, 1912', '2,117,522', '121,590', '314,917', '3']\n",
      "['NY', 'Albany', 'New York City', 'Jul 26, 1788', '20,201,249', '54,555', '141,297', '26']\n",
      "['NC', 'Raleigh', 'Charlotte', 'Nov 21, 1789', '10,439,388', '53,819', '139,391', '14']\n",
      "['ND', 'Bismarck', 'Fargo', 'Nov 2, 1889', '779,094', '70,698', '183,108', '1']\n",
      "['OH', 'Columbus', 'Mar 1, 1803', '11,799,448', '44,826', '116,098', '15']\n",
      "['OK', 'Oklahoma City', 'Nov 16, 1907', '3,959,353', '69,899', '181,037', '5']\n",
      "['OR', 'Salem', 'Portland', 'Feb 14, 1859', '4,237,256', '98,379', '254,799', '6']\n",
      "['PA', 'Harrisburg', 'Philadelphia', 'Dec 12, 1787', '13,002,700', '46,054', '119,280', '17']\n",
      "['RI', 'Providence', 'May 29, 1790', '1,097,379', '1,545', '4,001', '2']\n",
      "['SC', 'Columbia', 'Charleston', 'May 23, 1788', '5,118,425', '32,020', '82,933', '7']\n",
      "['SD', 'Pierre', 'Sioux Falls', 'Nov 2, 1889', '886,667', '77,116', '199,729', '1']\n",
      "['TN', 'Nashville', 'Jun 1, 1796', '6,910,840', '42,144', '109,153', '9']\n",
      "['TX', 'Austin', 'Houston', 'Dec 29, 1845', '29,145,505', '268,596', '695,662', '38']\n",
      "['UT', 'Salt Lake City', 'Jan 4, 1896', '3,271,616', '84,897', '219,882', '4']\n",
      "['VT', 'Montpelier', 'Burlington', 'Mar 4, 1791', '643,077', '9,616', '24,906', '1']\n",
      "['VA', 'Richmond', 'Virginia Beach', 'Jun 25, 1788', '8,631,393', '42,775', '110,787', '11']\n",
      "['WA', 'Olympia', 'Seattle', 'Nov 11, 1889', '7,705,281', '71,298', '184,661', '10']\n",
      "['WV', 'Charleston', 'Jun 20, 1863', '1,793,716', '24,230', '62,756', '2']\n",
      "['WI', 'Madison', 'Milwaukee', 'May 29, 1848', '5,893,718', '65,496', '169,635', '8']\n",
      "['WY', 'Cheyenne', 'Jul 10, 1890', '576,851', '97,813', '253,335', '1']\n"
     ]
    }
   ],
   "source": [
    "for row in table.find_all('tr')[1:]:  # Skip header row\n",
    "    cells = row.find_all('td')\n",
    "    print([cell.text.strip() for cell in cells])  # Print the entire row content"
   ]
  },
  {
   "cell_type": "code",
   "execution_count": 9,
   "id": "5d9fc956-d416-4050-ae22-1ef6f342a35a",
   "metadata": {},
   "outputs": [
    {
     "name": "stdout",
     "output_type": "stream",
     "text": [
      "  State Population\n",
      "0    AL    5024279\n",
      "1    AK     733391\n",
      "2    AZ     113990\n",
      "3    AR      53179\n",
      "4    CA   39538223\n"
     ]
    }
   ],
   "source": [
    "import pandas as pd\n",
    "\n",
    "# Initialize lists to store the data\n",
    "states = []\n",
    "populations = []\n",
    "\n",
    "# Loop through table rows and extract data\n",
    "for row in table.find_all('tr')[1:]:  # Skip the header row\n",
    "    cells = row.find_all('td')\n",
    "    if len(cells) > 4:\n",
    "        state = cells[0].text.strip()  # Extract the state name\n",
    "        population = cells[4].text.strip().replace(',', '')  # Extract the population and clean it\n",
    "        states.append(state)\n",
    "        populations.append(population)\n",
    "\n",
    "# Create a DataFrame\n",
    "df = pd.DataFrame({'State': states, 'Population': populations})\n",
    "print(df.head())  # Display the first few rows"
   ]
  },
  {
   "cell_type": "code",
   "execution_count": 11,
   "id": "c83d2d1e-cb7f-4c8a-a7e2-ef514938460e",
   "metadata": {},
   "outputs": [
    {
     "name": "stdout",
     "output_type": "stream",
     "text": [
      "Data saved to 'us_states_population.csv'\n"
     ]
    }
   ],
   "source": [
    "# Save to a CSV file\n",
    "df.to_csv('us_states_population.csv', index=False)\n",
    "print(\"Data saved to 'us_states_population.csv'\")\n"
   ]
  },
  {
   "cell_type": "code",
   "execution_count": null,
   "id": "25ae182f-bc93-4141-9aa9-42a9a28194ce",
   "metadata": {},
   "outputs": [],
   "source": []
  },
  {
   "cell_type": "code",
   "execution_count": null,
   "id": "ceba76b2-ed30-4a3d-8c59-f107cf3115ff",
   "metadata": {},
   "outputs": [],
   "source": []
  },
  {
   "cell_type": "code",
   "execution_count": null,
   "id": "c3791bd8-1a21-4d92-9b57-0574565c9861",
   "metadata": {},
   "outputs": [],
   "source": []
  },
  {
   "cell_type": "code",
   "execution_count": null,
   "id": "58c2fff2-9660-47e0-817a-56725cbdc78a",
   "metadata": {},
   "outputs": [],
   "source": []
  },
  {
   "cell_type": "code",
   "execution_count": null,
   "id": "a70a9158-5d2d-4703-bb86-8d876314c0ef",
   "metadata": {},
   "outputs": [],
   "source": []
  },
  {
   "cell_type": "code",
   "execution_count": null,
   "id": "d89ae35c-fe5e-4835-82e5-a03a8a44b641",
   "metadata": {},
   "outputs": [],
   "source": []
  },
  {
   "cell_type": "code",
   "execution_count": null,
   "id": "18c8d79b-124b-468a-8210-46cbbf40e30d",
   "metadata": {},
   "outputs": [],
   "source": []
  },
  {
   "cell_type": "code",
   "execution_count": null,
   "id": "1cd48f67-4b25-4379-985c-083e2197a60a",
   "metadata": {},
   "outputs": [],
   "source": []
  },
  {
   "cell_type": "code",
   "execution_count": null,
   "id": "29722337-7867-448b-8ba3-de39017fd08d",
   "metadata": {},
   "outputs": [],
   "source": []
  },
  {
   "cell_type": "code",
   "execution_count": null,
   "id": "673f55d8-d185-42b7-852c-43145d50d9a3",
   "metadata": {},
   "outputs": [],
   "source": []
  },
  {
   "cell_type": "code",
   "execution_count": null,
   "id": "c48f5033-9703-46ff-bd58-9feec46735ce",
   "metadata": {},
   "outputs": [],
   "source": []
  },
  {
   "cell_type": "code",
   "execution_count": null,
   "id": "67c63f6f-0880-4a74-9bae-cd0e6f5ac4f0",
   "metadata": {},
   "outputs": [],
   "source": []
  },
  {
   "cell_type": "code",
   "execution_count": null,
   "id": "46cbb79f-a31b-4c57-8181-949acd0847ad",
   "metadata": {},
   "outputs": [],
   "source": []
  },
  {
   "cell_type": "code",
   "execution_count": null,
   "id": "c5537a62-6e5c-4032-969a-c700a4bb7c34",
   "metadata": {},
   "outputs": [],
   "source": []
  }
 ],
 "metadata": {
  "kernelspec": {
   "display_name": "Python [conda env:anaconda3] *",
   "language": "python",
   "name": "conda-env-anaconda3-py"
  },
  "language_info": {
   "codemirror_mode": {
    "name": "ipython",
    "version": 3
   },
   "file_extension": ".py",
   "mimetype": "text/x-python",
   "name": "python",
   "nbconvert_exporter": "python",
   "pygments_lexer": "ipython3",
   "version": "3.12.8"
  }
 },
 "nbformat": 4,
 "nbformat_minor": 5
}
